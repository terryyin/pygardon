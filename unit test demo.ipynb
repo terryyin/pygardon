{
 "cells": [
  {
   "cell_type": "markdown",
   "id": "15918977",
   "metadata": {},
   "source": [
    "生命遊戲中，對於任意細胞，規則如下：\n",
    "* 每個細胞有兩種狀態 - 存活或死亡，每個細胞與以自身為中心的周圍八格細胞產生互動（如圖，黑色為存活，白色為死亡）\n",
    "* 當前細胞為存活狀態時，當周圍的存活細胞低於2個時（不包含2個），該細胞變成死亡狀態。（模擬生命數量稀少）\n",
    "* 當前細胞為存活狀態時，當周圍有2個或3個存活細胞時，該細胞保持原樣。\n",
    "* 當前細胞為存活狀態時，當周圍有超過3個存活細胞時，該細胞變成死亡狀態。（模擬生命數量過多）\n",
    "* 當前細胞為死亡狀態時，當周圍有3個存活細胞時，該細胞變成存活狀態。（模擬繁殖）\n",
    "可以把最初的細胞結構定義為種子，當所有在種子中的細胞同時被以上規則處理後，可以得到第一代細胞圖。按規則繼續處理當前的細胞圖，可以得到下一代的細胞圖，周而復始。\n",
    "\n",
    "Please help me to generate Python code to solve this problem. I need a function like `next_tick([(2, 3), (4, 5)])`, which returns the alive cells in the next tick."
   ]
  },
  {
   "cell_type": "markdown",
   "id": "bf158086",
   "metadata": {},
   "source": [
    "Please generate a function `print_game(live_cells)` to print all the living cells within 6 * 6, ignore cells outside the boundary."
   ]
  },
  {
   "cell_type": "code",
   "execution_count": 8,
   "id": "14d4bb95",
   "metadata": {},
   "outputs": [
    {
     "name": "stdout",
     "output_type": "stream",
     "text": [
      "[]\n"
     ]
    }
   ],
   "source": [
    "def next_tick(alive_cells):\n",
    "    if not alive_cells:\n",
    "        return []\n",
    "\n",
    "    # Determine the boundaries of the grid\n",
    "    min_x = min(x for x, y in alive_cells) - 1\n",
    "    max_x = max(x for x, y in alive_cells) + 2\n",
    "    min_y = min(y for x, y in alive_cells) - 1\n",
    "    max_y = max(y for x, y in alive_cells) + 2\n",
    "\n",
    "    # Initialize the grid\n",
    "    current_state = set(alive_cells)\n",
    "\n",
    "    # Determine the next state\n",
    "    next_state = set()\n",
    "    for x in range(min_x, max_x):\n",
    "        for y in range(min_y, max_y):\n",
    "            # Count the alive neighbors\n",
    "            neighbors = [(x + dx, y + dy) for dx in (-1, 0, 1) for dy in (-1, 0, 1) if (dx, dy) != (0, 0)]\n",
    "            alive_neighbors = sum((nx, ny) in current_state for nx, ny in neighbors)\n",
    "\n",
    "            # Apply the rules of the Game of Life\n",
    "            if (x, y) in current_state and alive_neighbors in (2, 3):\n",
    "                next_state.add((x, y))\n",
    "            elif (x, y) not in current_state and alive_neighbors == 3:\n",
    "                next_state.add((x, y))\n",
    "\n",
    "    # Return the list of alive cells\n",
    "    return list(next_state)\n",
    "\n"
   ]
  },
  {
   "cell_type": "code",
   "execution_count": 14,
   "id": "9c8a0d8b",
   "metadata": {},
   "outputs": [],
   "source": [
    "def print_game(live_cells):\n",
    "    # Define the size of the grid\n",
    "    grid_size = 6\n",
    "\n",
    "    # Initialize the grid\n",
    "    grid = [['.' for _ in range(grid_size)] for _ in range(grid_size)]\n",
    "\n",
    "    # Place live cells on the grid\n",
    "    for x, y in live_cells:\n",
    "        if 0 <= x < grid_size and 0 <= y < grid_size:\n",
    "            grid[x][y] = 'X'\n",
    "\n",
    "    print(\"#\")\n",
    "    # Print the grid\n",
    "    for row in grid:\n",
    "        print(' '.join(row))\n"
   ]
  },
  {
   "cell_type": "code",
   "execution_count": 15,
   "id": "ddd3108f",
   "metadata": {},
   "outputs": [
    {
     "name": "stdout",
     "output_type": "stream",
     "text": [
      "#\n",
      ". . . . . .\n",
      ". . . . . .\n",
      ". . . . . .\n",
      ". . . . . .\n",
      ". . . . . .\n",
      ". . . . . .\n"
     ]
    }
   ],
   "source": [
    "# Example usage:\n",
    "print_game(next_tick([(2, 3), (4, 5)]))  # Output will depend on the initial configuration\n",
    "\n"
   ]
  },
  {
   "cell_type": "code",
   "execution_count": 32,
   "id": "47785b02",
   "metadata": {},
   "outputs": [],
   "source": [
    "live_cells = []\n",
    "live_cells = next_tick(live_cells)\n",
    "assert len(live_cells) == 0\n"
   ]
  },
  {
   "cell_type": "code",
   "execution_count": 34,
   "id": "50f7f729",
   "metadata": {},
   "outputs": [],
   "source": [
    "# test case 2\n",
    "live_cells = [(2, 2), (2,3), (2,4)]\n",
    "live_cells = next_tick(live_cells)\n",
    "assert (2,2) not in live_cells, \"the alive cell with only one neighbour must die\""
   ]
  },
  {
   "cell_type": "code",
   "execution_count": 35,
   "id": "172a401c",
   "metadata": {},
   "outputs": [],
   "source": [
    "live_cells = [(2, 2), (2,3), (2,4)]\n",
    "live_cells = next_tick(live_cells)\n",
    "assert (2,2) not in live_cells\n",
    "assert (3,3) in live_cells, \"the dead cell with 3 live neighbours should revive\""
   ]
  },
  {
   "cell_type": "code",
   "execution_count": null,
   "id": "6c3e86a0",
   "metadata": {},
   "outputs": [],
   "source": [
    "\n",
    "print_game(live_cells)\n",
    "\n",
    "live_cells = next_tick(live_cells)\n",
    "print_game(live_cells)\n",
    "\n",
    "live_cells.append((3,2))\n",
    "live_cells = next_tick(live_cells)\n",
    "print_game(live_cells)\n",
    "\n",
    "\n"
   ]
  }
 ],
 "metadata": {
  "kernelspec": {
   "display_name": "Python 3",
   "language": "python",
   "name": "python3"
  },
  "language_info": {
   "codemirror_mode": {
    "name": "ipython",
    "version": 3
   },
   "file_extension": ".py",
   "mimetype": "text/x-python",
   "name": "python",
   "nbconvert_exporter": "python",
   "pygments_lexer": "ipython3",
   "version": "3.10.7"
  }
 },
 "nbformat": 4,
 "nbformat_minor": 5
}
