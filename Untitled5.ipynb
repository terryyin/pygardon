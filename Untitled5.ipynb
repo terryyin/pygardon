{
 "cells": [
  {
   "cell_type": "code",
   "execution_count": null,
   "id": "5df7a497",
   "metadata": {},
   "outputs": [],
   "source": []
  }
 ],
 "metadata": {
  "kernelspec": {
   "display_name": "Dyalog APL",
   "language": "apl",
   "name": "dyalog_apl"
  }
 },
 "nbformat": 4,
 "nbformat_minor": 5
}
