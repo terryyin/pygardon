{
 "cells": [
  {
   "cell_type": "markdown",
   "id": "a4ea919e",
   "metadata": {},
   "source": [
    "生命遊戲中，對於任意細胞，規則如下：\n",
    "* 每個細胞有兩種狀態 - 存活或死亡，每個細胞與以自身為中心的周圍八格細胞產生互動（如圖，黑色為存活，白色為死亡）\n",
    "* 當前細胞為存活狀態時，當周圍的存活細胞低於2個時（不包含2個），該細胞變成死亡狀態。（模擬生命數量稀少）\n",
    "* 當前細胞為存活狀態時，當周圍有2個或3個存活細胞時，該細胞保持原樣。\n",
    "* 當前細胞為存活狀態時，當周圍有超過3個存活細胞時，該細胞變成死亡狀態。（模擬生命數量過多）\n",
    "* 當前細胞為死亡狀態時，當周圍有3個存活細胞時，該細胞變成存活狀態。（模擬繁殖）\n",
    "可以把最初的細胞結構定義為種子，當所有在種子中的細胞同時被以上規則處理後，可以得到第一代細胞圖。按規則繼續處理當前的細胞圖，可以得到下一代的細胞圖，周而復始。\n",
    "\n",
    "Please help me to generate Python code to solve this problem. I need a function like `next_tick([(2, 3), (4, 5))`, which returns the alive cells in the next tick.\n"
   ]
  },
  {
   "cell_type": "code",
   "execution_count": 24,
   "id": "82588f51",
   "metadata": {},
   "outputs": [],
   "source": [
    "def next_tick(live_cells):\n",
    "    from collections import defaultdict\n",
    "    \n",
    "    neighbor_count = defaultdict(int)\n",
    "\n",
    "    # Count neighbors for all live cells\n",
    "    for cell in live_cells:\n",
    "        x, y = cell\n",
    "        for dx in [-1, 0, 1]:\n",
    "            for dy in [-1, 0, 1]:\n",
    "                if dx != 0 or dy != 0:\n",
    "                    neighbor_count[(x + dx, y + dy)] += 1\n",
    "\n",
    "    new_live_cells = set()\n",
    "\n",
    "    # Apply the Game of Life rules\n",
    "    for cell, count in neighbor_count.items():\n",
    "        if count == 3 or (count == 2 and cell in live_cells):\n",
    "            new_live_cells.add(cell)\n",
    "\n",
    "    return new_live_cells\n"
   ]
  },
  {
   "cell_type": "markdown",
   "id": "06015fde",
   "metadata": {},
   "source": [
    "Please generate a function `print_game(live_cells)` to print all the living cells within 10 * 10, ignore cells outside the boundary."
   ]
  },
  {
   "cell_type": "code",
   "execution_count": 25,
   "id": "3df61cd9",
   "metadata": {},
   "outputs": [],
   "source": [
    "def print_game(live_cells):\n",
    "    # Define the size of the grid\n",
    "    grid_size = 6\n",
    "    # Create a 10x10 grid initialized with dead cells (represented by '.')\n",
    "    grid = [['.' for _ in range(grid_size)] for _ in range(grid_size)]\n",
    "    \n",
    "    # Mark the live cells on the grid, ignoring those outside the 10x10 boundary\n",
    "    for x, y in live_cells:\n",
    "        if 0 <= x < grid_size and 0 <= y < grid_size:\n",
    "            grid[x][y] = 'O'  # 'O' represents a live cell\n",
    "\n",
    "    print(\"##\")\n",
    "    # Print the grid\n",
    "    for row in grid:\n",
    "        print(' '.join(row))\n",
    "\n"
   ]
  },
  {
   "cell_type": "code",
   "execution_count": 26,
   "id": "e9fb9f5f",
   "metadata": {},
   "outputs": [
    {
     "name": "stdout",
     "output_type": "stream",
     "text": [
      "##\n",
      ". . . . . .\n",
      ". . . . . .\n",
      ". . . . . .\n",
      ". . . . . .\n",
      ". . . . . .\n",
      ". . . . . .\n",
      "##\n",
      ". . . . . .\n",
      ". . . O . .\n",
      ". . . O . .\n",
      ". . . O . .\n",
      ". . . . . .\n",
      ". . . . . .\n",
      "##\n",
      ". . . . . .\n",
      ". . . . . .\n",
      ". . O O O .\n",
      ". . . . . .\n",
      ". . . . . .\n",
      ". . . . . .\n",
      "##\n",
      ". . . . . .\n",
      ". . . O . .\n",
      ". . O O O .\n",
      ". . O O O .\n",
      ". . . . . .\n",
      ". . . . . .\n",
      "##\n",
      ". . . . . .\n",
      ". . O O O .\n",
      ". . . . . .\n",
      ". . O . O .\n",
      ". . . O . .\n",
      ". . . . . .\n"
     ]
    }
   ],
   "source": [
    "lives = []\n",
    "lives = next_tick(lives)\n",
    "print_game(lives)\n",
    "assert len(lives) == 0\n",
    "\n",
    "lives = [(2, 3), (2, 4), (2, 2)]\n",
    "lives = next_tick(lives)\n",
    "print_game(lives)\n",
    "\n",
    "lives = next_tick(lives)\n",
    "print_game(lives)\n",
    "\n",
    "lives.add((3,3))\n",
    "lives = next_tick(lives)\n",
    "print_game(lives)\n",
    "\n",
    "lives = next_tick(lives)\n",
    "print_game(lives)\n",
    "\n"
   ]
  },
  {
   "cell_type": "code",
   "execution_count": null,
   "id": "d6aa20cf",
   "metadata": {},
   "outputs": [],
   "source": []
  }
 ],
 "metadata": {
  "kernelspec": {
   "display_name": "Python 3",
   "language": "python",
   "name": "python3"
  },
  "language_info": {
   "codemirror_mode": {
    "name": "ipython",
    "version": 3
   },
   "file_extension": ".py",
   "mimetype": "text/x-python",
   "name": "python",
   "nbconvert_exporter": "python",
   "pygments_lexer": "ipython3",
   "version": "3.10.7"
  }
 },
 "nbformat": 4,
 "nbformat_minor": 5
}
