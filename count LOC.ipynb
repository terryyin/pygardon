{
 "cells": [
  {
   "cell_type": "code",
   "execution_count": 2,
   "id": "88c6a4cf",
   "metadata": {},
   "outputs": [],
   "source": [
    "def loc(source):\n",
    "    return 0\n",
    "\n",
    "\n",
    "assert 0 == loc('')"
   ]
  },
  {
   "cell_type": "code",
   "execution_count": 33,
   "id": "049e10ee",
   "metadata": {},
   "outputs": [],
   "source": [
    "def loc(source):\n",
    "    lines = source.splitlines()\n",
    "    return len(lines)\n",
    "\n",
    "\n",
    "assert 0 == loc(''), \"got %d lines\" % loc(\"\")\n",
    "assert 1 == loc('one line')\n",
    "assert 2 == loc(\"line1\\nline2\")"
   ]
  },
  {
   "cell_type": "code",
   "execution_count": 34,
   "id": "b55749a4",
   "metadata": {},
   "outputs": [],
   "source": [
    "def loc(source):\n",
    "    lines = source.splitlines()\n",
    "    lines = [l for l in lines if not l.lstrip().startswith(\"//\")]\n",
    "\n",
    "    return len(lines)\n",
    "\n",
    "\n",
    "\n",
    "assert 0 == loc(''), \"got %d lines\" % loc(\"\")\n",
    "assert 1 == loc('one line')\n",
    "assert 2 == loc(\"line1\\nline2\")\n",
    "assert 0 == loc(\"// comment\")\n",
    "assert 0 == loc(\" // comment\")"
   ]
  },
  {
   "cell_type": "code",
   "execution_count": 38,
   "id": "5e751f24",
   "metadata": {},
   "outputs": [],
   "source": [
    "def loc(source):\n",
    "    lines = source.splitlines()\n",
    "    lines = [l for l in lines if not l.lstrip().startswith(\"//\")]\n",
    "    lines = [l for l in lines if l.strip() != '']\n",
    "\n",
    "    return len(lines)\n",
    "\n",
    "\n",
    "\n",
    "assert 0 == loc(''), \"got %d lines\" % loc(\"\")\n",
    "assert 1 == loc('one line')\n",
    "assert 2 == loc(\"line1\\nline2\")\n",
    "assert 0 == loc(\"// comment\")\n",
    "assert 0 == loc(\" // comment\")\n",
    "assert 0 == loc(\" \")\n",
    "assert 0 == loc(\"\\t\")"
   ]
  },
  {
   "cell_type": "code",
   "execution_count": 43,
   "id": "84eb98dc",
   "metadata": {},
   "outputs": [],
   "source": [
    "import re\n",
    "\n",
    "def loc(source):\n",
    "    source = re.sub(r'/\\*.*?\\*/', '', source, flags=re.DOTALL)\n",
    "    lines = source.splitlines()\n",
    "    lines = [l for l in lines if not l.lstrip().startswith(\"//\")]\n",
    "    lines = [l for l in lines if l.strip() != '']\n",
    "\n",
    "    return len(lines)\n",
    "\n",
    "\n",
    "\n",
    "assert 0 == loc(''), \"got %d lines\" % loc(\"\")\n",
    "assert 1 == loc('one line')\n",
    "assert 2 == loc(\"line1\\nline2\")\n",
    "assert 0 == loc(\"// comment\")\n",
    "assert 0 == loc(\" // comment\")\n",
    "assert 0 == loc(\" \")\n",
    "assert 0 == loc(\"\\t\")\n",
    "assert 0 == loc(\"/**/\")\n",
    "assert 0 == loc(\"/*aaa*/\")"
   ]
  },
  {
   "cell_type": "code",
   "execution_count": 47,
   "id": "27ace3e4",
   "metadata": {},
   "outputs": [],
   "source": [
    "source_code = '''\n",
    "public class Example {\n",
    "    public static void main(String[] args) {\n",
    "        int x = 5; // Initialize x and increment\n",
    "        x++; /* Increment x */\n",
    "        // This is a full line comment\n",
    "        /* Start of block comment\n",
    "        continues here */ int y = x; // Initialize y\n",
    "        System.out.println(\"Value of x: \" + x); // Display x\n",
    "        /* This comment has code on the same line */ System.out.println(\"Value of y: \" + y);\n",
    "    }\n",
    "}\n",
    "'''"
   ]
  },
  {
   "cell_type": "code",
   "execution_count": 49,
   "id": "f2d65acf",
   "metadata": {},
   "outputs": [],
   "source": [
    "assert 9 == loc(source_code)"
   ]
  },
  {
   "cell_type": "code",
   "execution_count": null,
   "id": "1fa31101",
   "metadata": {},
   "outputs": [],
   "source": []
  }
 ],
 "metadata": {
  "kernelspec": {
   "display_name": "Python 3",
   "language": "python",
   "name": "python3"
  },
  "language_info": {
   "codemirror_mode": {
    "name": "ipython",
    "version": 3
   },
   "file_extension": ".py",
   "mimetype": "text/x-python",
   "name": "python",
   "nbconvert_exporter": "python",
   "pygments_lexer": "ipython3",
   "version": "3.10.7"
  }
 },
 "nbformat": 4,
 "nbformat_minor": 5
}
