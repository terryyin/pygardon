{
 "cells": [
  {
   "cell_type": "code",
   "execution_count": 1,
   "id": "b65aa12d",
   "metadata": {},
   "outputs": [
    {
     "data": {
      "text/html": [
       "<pre class=\"language-APL\">2\n",
       "</pre>"
      ]
     },
     "execution_count": 1,
     "metadata": {},
     "output_type": "execute_result"
    }
   ],
   "source": [
    "1+1"
   ]
  },
  {
   "cell_type": "code",
   "execution_count": 9,
   "id": "6df844b2",
   "metadata": {},
   "outputs": [
    {
     "name": "stdout",
     "output_type": "stream",
     "text": [
      "[InstallKernelSpec] Removing existing kernelspec in /Users/terryyin/Library/Jupyter/kernels/dyalog_apl\r\n",
      "[InstallKernelSpec] Installed kernelspec dyalog_apl in /Users/terryyin/Library/Jupyter/kernels/dyalog_apl\r\n"
     ]
    }
   ],
   "source": [
    "! python -m dyalog_kernel install"
   ]
  },
  {
   "cell_type": "code",
   "execution_count": 3,
   "id": "8c560063",
   "metadata": {},
   "outputs": [
    {
     "name": "stdout",
     "output_type": "stream",
     "text": [
      "/Users/terryyin/git/pygarden/.venv/bin/pip\r\n"
     ]
    }
   ],
   "source": [
    "! which pip"
   ]
  },
  {
   "cell_type": "code",
   "execution_count": 4,
   "id": "83f19754",
   "metadata": {},
   "outputs": [
    {
     "name": "stdout",
     "output_type": "stream",
     "text": [
      "/Users/terryyin/git/pygarden/.venv/lib/python3.10/site-packages/:lib/python3.10/site-packages:\r\n"
     ]
    }
   ],
   "source": [
    "! echo \"$PYTHONPATH\""
   ]
  },
  {
   "cell_type": "code",
   "execution_count": 8,
   "id": "892dab61",
   "metadata": {},
   "outputs": [
    {
     "name": "stdout",
     "output_type": "stream",
     "text": [
      "Collecting dyalog-jupyter-kernel\n",
      "  Using cached dyalog_jupyter_kernel-2.0.2-py3-none-any.whl (22 kB)\n",
      "Collecting ipykernel>=6.20.0\n",
      "  Using cached ipykernel-6.29.4-py3-none-any.whl (117 kB)\n",
      "Collecting pyzmq>=24\n",
      "  Using cached pyzmq-26.0.3-cp310-cp310-macosx_10_15_universal2.whl (1.4 MB)\n",
      "Collecting comm>=0.1.1\n",
      "  Using cached comm-0.2.2-py3-none-any.whl (7.2 kB)\n",
      "Collecting psutil\n",
      "  Using cached psutil-5.9.8-cp38-abi3-macosx_11_0_arm64.whl (249 kB)\n",
      "Collecting appnope\n",
      "  Using cached appnope-0.1.4-py2.py3-none-any.whl (4.3 kB)\n",
      "Collecting ipython>=7.23.1\n",
      "  Using cached ipython-8.24.0-py3-none-any.whl (816 kB)\n",
      "Collecting jupyter-core!=5.0.*,>=4.12\n",
      "  Using cached jupyter_core-5.7.2-py3-none-any.whl (28 kB)\n",
      "Collecting traitlets>=5.4.0\n",
      "  Using cached traitlets-5.14.3-py3-none-any.whl (85 kB)\n",
      "Collecting packaging\n",
      "  Using cached packaging-24.0-py3-none-any.whl (53 kB)\n",
      "Collecting matplotlib-inline>=0.1\n",
      "  Using cached matplotlib_inline-0.1.7-py3-none-any.whl (9.9 kB)\n",
      "Collecting jupyter-client>=6.1.12\n",
      "  Using cached jupyter_client-8.6.1-py3-none-any.whl (105 kB)\n",
      "Collecting tornado>=6.1\n",
      "  Using cached tornado-6.4-cp38-abi3-macosx_10_9_universal2.whl (433 kB)\n",
      "Collecting debugpy>=1.6.5\n",
      "  Using cached debugpy-1.8.1-py2.py3-none-any.whl (4.8 MB)\n",
      "Collecting nest-asyncio\n",
      "  Using cached nest_asyncio-1.6.0-py3-none-any.whl (5.2 kB)\n",
      "Collecting typing-extensions>=4.6\n",
      "  Using cached typing_extensions-4.11.0-py3-none-any.whl (34 kB)\n",
      "Collecting pygments>=2.4.0\n",
      "  Using cached pygments-2.17.2-py3-none-any.whl (1.2 MB)\n",
      "Collecting decorator\n",
      "  Using cached decorator-5.1.1-py3-none-any.whl (9.1 kB)\n",
      "Collecting exceptiongroup\n",
      "  Using cached exceptiongroup-1.2.1-py3-none-any.whl (16 kB)\n",
      "Collecting prompt-toolkit<3.1.0,>=3.0.41\n",
      "  Using cached prompt_toolkit-3.0.43-py3-none-any.whl (386 kB)\n",
      "Collecting jedi>=0.16\n",
      "  Using cached jedi-0.19.1-py2.py3-none-any.whl (1.6 MB)\n",
      "Collecting stack-data\n",
      "  Using cached stack_data-0.6.3-py3-none-any.whl (24 kB)\n",
      "Collecting pexpect>4.3\n",
      "  Using cached pexpect-4.9.0-py2.py3-none-any.whl (63 kB)\n",
      "Collecting python-dateutil>=2.8.2\n",
      "  Using cached python_dateutil-2.9.0.post0-py2.py3-none-any.whl (229 kB)\n",
      "Collecting platformdirs>=2.5\n",
      "  Using cached platformdirs-4.2.1-py3-none-any.whl (17 kB)\n",
      "Collecting parso<0.9.0,>=0.8.3\n",
      "  Using cached parso-0.8.4-py2.py3-none-any.whl (103 kB)\n",
      "Collecting ptyprocess>=0.5\n",
      "  Using cached ptyprocess-0.7.0-py2.py3-none-any.whl (13 kB)\n",
      "Collecting wcwidth\n",
      "  Using cached wcwidth-0.2.13-py2.py3-none-any.whl (34 kB)\n",
      "Collecting six>=1.5\n",
      "  Using cached six-1.16.0-py2.py3-none-any.whl (11 kB)\n",
      "Collecting pure-eval\n",
      "  Using cached pure_eval-0.2.2-py3-none-any.whl (11 kB)\n",
      "Collecting asttokens>=2.1.0\n",
      "  Using cached asttokens-2.4.1-py2.py3-none-any.whl (27 kB)\n",
      "Collecting executing>=1.2.0\n",
      "  Using cached executing-2.0.1-py2.py3-none-any.whl (24 kB)\n",
      "Installing collected packages: wcwidth, pure-eval, ptyprocess, typing-extensions, traitlets, tornado, six, pyzmq, pygments, psutil, prompt-toolkit, platformdirs, pexpect, parso, packaging, nest-asyncio, executing, exceptiongroup, decorator, debugpy, appnope, python-dateutil, matplotlib-inline, jupyter-core, jedi, comm, asttokens, stack-data, jupyter-client, ipython, ipykernel, dyalog-jupyter-kernel\n",
      "Successfully installed appnope-0.1.4 asttokens-2.4.1 comm-0.2.2 debugpy-1.8.1 decorator-5.1.1 dyalog-jupyter-kernel-2.0.2 exceptiongroup-1.2.1 executing-2.0.1 ipykernel-6.29.4 ipython-8.24.0 jedi-0.19.1 jupyter-client-8.6.1 jupyter-core-5.7.2 matplotlib-inline-0.1.7 nest-asyncio-1.6.0 packaging-24.0 parso-0.8.4 pexpect-4.9.0 platformdirs-4.2.1 prompt-toolkit-3.0.43 psutil-5.9.8 ptyprocess-0.7.0 pure-eval-0.2.2 pygments-2.17.2 python-dateutil-2.9.0.post0 pyzmq-26.0.3 six-1.16.0 stack-data-0.6.3 tornado-6.4 traitlets-5.14.3 typing-extensions-4.11.0 wcwidth-0.2.13\n",
      "\n",
      "\u001b[1m[\u001b[0m\u001b[34;49mnotice\u001b[0m\u001b[1;39;49m]\u001b[0m\u001b[39;49m A new release of pip available: \u001b[0m\u001b[31;49m22.2.2\u001b[0m\u001b[39;49m -> \u001b[0m\u001b[32;49m24.0\u001b[0m\n",
      "\u001b[1m[\u001b[0m\u001b[34;49mnotice\u001b[0m\u001b[1;39;49m]\u001b[0m\u001b[39;49m To update, run: \u001b[0m\u001b[32;49mpip install --upgrade pip\u001b[0m\n"
     ]
    }
   ],
   "source": [
    "! pip install dyalog-jupyter-kernel"
   ]
  },
  {
   "cell_type": "code",
   "execution_count": 5,
   "id": "a4c13009",
   "metadata": {},
   "outputs": [
    {
     "name": "stdout",
     "output_type": "stream",
     "text": [
      "/nix/store/130b6bfkxxw8n3zgzadb0z503a9fpynl-python3-3.10.7-env/bin/python3.10\n"
     ]
    }
   ],
   "source": [
    "import sys\n",
    "print(sys.executable)\n"
   ]
  },
  {
   "cell_type": "code",
   "execution_count": 6,
   "id": "47f72905",
   "metadata": {},
   "outputs": [
    {
     "name": "stdout",
     "output_type": "stream",
     "text": [
      "/Users/terryyin/git/pygarden/.venv/lib/python3.10/site-packages/:lib/python3.10/site-packages:\n"
     ]
    }
   ],
   "source": [
    "import os\n",
    "print( os.environ['PYTHONPATH'])"
   ]
  },
  {
   "cell_type": "code",
   "execution_count": null,
   "id": "85042601",
   "metadata": {},
   "outputs": [],
   "source": []
  }
 ],
 "metadata": {
  "kernelspec": {
   "display_name": "Dyalog APL",
   "language": "apl",
   "name": "dyalog_apl"
  },
  "language_info": {
   "file_extension": ".apl",
   "mimetype": "text/apl",
   "name": "APL"
  }
 },
 "nbformat": 4,
 "nbformat_minor": 5
}
