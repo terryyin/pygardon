{
 "cells": [
  {
   "cell_type": "code",
   "execution_count": null,
   "id": "f4061bea",
   "metadata": {},
   "outputs": [],
   "source": []
  }
 ],
 "metadata": {
  "kernelspec": {
   "display_name": "Dyalog APL",
   "language": "apl",
   "name": "dyalog_apl"
  }
 },
 "nbformat": 4,
 "nbformat_minor": 5
}
